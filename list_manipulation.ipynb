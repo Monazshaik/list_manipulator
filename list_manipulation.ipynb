{
  "nbformat": 4,
  "nbformat_minor": 0,
  "metadata": {
    "colab": {
      "provenance": [],
      "authorship_tag": "ABX9TyOo9pk32jePsvo81zhm+ir5",
      "include_colab_link": true
    },
    "kernelspec": {
      "name": "python3",
      "display_name": "Python 3"
    },
    "language_info": {
      "name": "python"
    }
  },
  "cells": [
    {
      "cell_type": "markdown",
      "metadata": {
        "id": "view-in-github",
        "colab_type": "text"
      },
      "source": [
        "<a href=\"https://colab.research.google.com/github/Monazshaik/list_manipulator/blob/main/list_manipulation.ipynb\" target=\"_parent\"><img src=\"https://colab.research.google.com/assets/colab-badge.svg\" alt=\"Open In Colab\"/></a>"
      ]
    },
    {
      "cell_type": "code",
      "source": [
        "class ListManipulator:\n",
        "    def __init__(self):\n",
        "        self.internal_list = []\n",
        "\n",
        "    def add_elements(self, elements):\n",
        "        self.internal_list.extend(elements)\n",
        "\n",
        "    def remove_duplicates(self):\n",
        "        self.internal_list = list(set(self.internal_list))\n",
        "\n",
        "    def reverse_list(self):\n",
        "        self.internal_list.reverse()\n",
        "\n",
        "    def sort_list(self):\n",
        "        self.internal_list.sort()\n",
        "\n",
        "    def get_unique_elements(self):\n",
        "        return list(set(self.internal_list))\n",
        "\n",
        "    def remove_element(self, element):\n",
        "        if element in self.internal_list:\n",
        "            self.internal_list.remove(element)\n",
        "\n",
        "    def get_list(self):\n",
        "        return self.internal_list\n",
        "\n",
        "\n",
        "# Example usage:\n",
        "lm = ListManipulator()\n",
        "lm.add_elements([1, 2, 3, 4, 5, 1, 2])\n",
        "print(\"Original List:\", lm.get_list())\n",
        "\n",
        "lm.remove_duplicates()\n",
        "print(\"List after removing duplicates:\", lm.get_list())\n",
        "\n",
        "lm.reverse_list()\n",
        "print(\"Reversed List:\", lm.get_list())\n",
        "\n",
        "lm.sort_list()\n",
        "print(\"Sorted List:\", lm.get_list())\n",
        "\n",
        "print(\"Unique Elements:\", lm.get_unique_elements())\n",
        "\n",
        "lm.remove_element(3)\n",
        "print(\"List after removing element 3:\", lm.get_list())\n"
      ],
      "metadata": {
        "colab": {
          "base_uri": "https://localhost:8080/"
        },
        "id": "qCkBXU9rOHnk",
        "outputId": "2bee1dfd-b3e9-42a0-da5b-26cdce94c3d4"
      },
      "execution_count": 2,
      "outputs": [
        {
          "output_type": "stream",
          "name": "stdout",
          "text": [
            "Original List: [1, 2, 3, 4, 5, 1, 2]\n",
            "List after removing duplicates: [1, 2, 3, 4, 5]\n",
            "Reversed List: [5, 4, 3, 2, 1]\n",
            "Sorted List: [1, 2, 3, 4, 5]\n",
            "Unique Elements: [1, 2, 3, 4, 5]\n",
            "List after removing element 3: [1, 2, 4, 5]\n"
          ]
        }
      ]
    }
  ]
}